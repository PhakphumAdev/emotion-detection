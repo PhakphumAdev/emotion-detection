{
 "cells": [
  {
   "cell_type": "markdown",
   "metadata": {
    "id": "mioPY2VyvdSs"
   },
   "source": [
    "## Emotion Detection"
   ]
  },
  {
   "cell_type": "markdown",
   "metadata": {
    "id": "nnntRj7EvhS-"
   },
   "source": [
    "## Loading dataset"
   ]
  },
  {
   "cell_type": "code",
   "execution_count": 20,
   "metadata": {
    "id": "GQMUsyzsvktL"
   },
   "outputs": [],
   "source": [
    "import pandas as pd\n",
    "import matplotlib.pyplot as plt\n",
    "import seaborn as sns\n",
    "df = pd.read_pickle('merged_training.pkl')"
   ]
  },
  {
   "cell_type": "code",
   "execution_count": 21,
   "metadata": {
    "colab": {
     "base_uri": "https://localhost:8080/",
     "height": 520
    },
    "id": "yPDbFGQSvt4z",
    "outputId": "a2b4fab2-eb7f-456c-8414-2f1e66008632"
   },
   "outputs": [
    {
     "data": {
      "text/html": [
       "<div>\n",
       "<style scoped>\n",
       "    .dataframe tbody tr th:only-of-type {\n",
       "        vertical-align: middle;\n",
       "    }\n",
       "\n",
       "    .dataframe tbody tr th {\n",
       "        vertical-align: top;\n",
       "    }\n",
       "\n",
       "    .dataframe thead th {\n",
       "        text-align: right;\n",
       "    }\n",
       "</style>\n",
       "<table border=\"1\" class=\"dataframe\">\n",
       "  <thead>\n",
       "    <tr style=\"text-align: right;\">\n",
       "      <th></th>\n",
       "      <th>text</th>\n",
       "      <th>emotions</th>\n",
       "    </tr>\n",
       "  </thead>\n",
       "  <tbody>\n",
       "    <tr>\n",
       "      <th>27383</th>\n",
       "      <td>i feel awful about it too because it s my job ...</td>\n",
       "      <td>sadness</td>\n",
       "    </tr>\n",
       "    <tr>\n",
       "      <th>110083</th>\n",
       "      <td>im alone i feel awful</td>\n",
       "      <td>sadness</td>\n",
       "    </tr>\n",
       "    <tr>\n",
       "      <th>140764</th>\n",
       "      <td>ive probably mentioned this before but i reall...</td>\n",
       "      <td>joy</td>\n",
       "    </tr>\n",
       "    <tr>\n",
       "      <th>100071</th>\n",
       "      <td>i was feeling a little low few days back</td>\n",
       "      <td>sadness</td>\n",
       "    </tr>\n",
       "    <tr>\n",
       "      <th>2837</th>\n",
       "      <td>i beleive that i am much more sensitive to oth...</td>\n",
       "      <td>love</td>\n",
       "    </tr>\n",
       "    <tr>\n",
       "      <th>18231</th>\n",
       "      <td>i find myself frustrated with christians becau...</td>\n",
       "      <td>love</td>\n",
       "    </tr>\n",
       "    <tr>\n",
       "      <th>10714</th>\n",
       "      <td>i am one of those people who feels like going ...</td>\n",
       "      <td>joy</td>\n",
       "    </tr>\n",
       "    <tr>\n",
       "      <th>35177</th>\n",
       "      <td>i feel especially pleased about this as this h...</td>\n",
       "      <td>joy</td>\n",
       "    </tr>\n",
       "    <tr>\n",
       "      <th>122177</th>\n",
       "      <td>i was struggling with these awful feelings and...</td>\n",
       "      <td>joy</td>\n",
       "    </tr>\n",
       "    <tr>\n",
       "      <th>26723</th>\n",
       "      <td>i feel so enraged but helpless at the same time</td>\n",
       "      <td>anger</td>\n",
       "    </tr>\n",
       "    <tr>\n",
       "      <th>41979</th>\n",
       "      <td>i said feeling a bit rebellious</td>\n",
       "      <td>anger</td>\n",
       "    </tr>\n",
       "    <tr>\n",
       "      <th>2046</th>\n",
       "      <td>i also feel disillusioned that someone who cla...</td>\n",
       "      <td>sadness</td>\n",
       "    </tr>\n",
       "    <tr>\n",
       "      <th>98659</th>\n",
       "      <td>i mean is on this stupid trip of making the gr...</td>\n",
       "      <td>joy</td>\n",
       "    </tr>\n",
       "    <tr>\n",
       "      <th>50434</th>\n",
       "      <td>i woke up feeling particularly vile tried to i...</td>\n",
       "      <td>anger</td>\n",
       "    </tr>\n",
       "    <tr>\n",
       "      <th>9280</th>\n",
       "      <td>i could feel the vile moth burrowing its way i...</td>\n",
       "      <td>anger</td>\n",
       "    </tr>\n",
       "  </tbody>\n",
       "</table>\n",
       "</div>"
      ],
      "text/plain": [
       "                                                     text emotions\n",
       "27383   i feel awful about it too because it s my job ...  sadness\n",
       "110083                              im alone i feel awful  sadness\n",
       "140764  ive probably mentioned this before but i reall...      joy\n",
       "100071           i was feeling a little low few days back  sadness\n",
       "2837    i beleive that i am much more sensitive to oth...     love\n",
       "18231   i find myself frustrated with christians becau...     love\n",
       "10714   i am one of those people who feels like going ...      joy\n",
       "35177   i feel especially pleased about this as this h...      joy\n",
       "122177  i was struggling with these awful feelings and...      joy\n",
       "26723     i feel so enraged but helpless at the same time    anger\n",
       "41979                     i said feeling a bit rebellious    anger\n",
       "2046    i also feel disillusioned that someone who cla...  sadness\n",
       "98659   i mean is on this stupid trip of making the gr...      joy\n",
       "50434   i woke up feeling particularly vile tried to i...    anger\n",
       "9280    i could feel the vile moth burrowing its way i...    anger"
      ]
     },
     "execution_count": 21,
     "metadata": {},
     "output_type": "execute_result"
    }
   ],
   "source": [
    "df.head(15)"
   ]
  },
  {
   "cell_type": "code",
   "execution_count": 22,
   "metadata": {
    "colab": {
     "base_uri": "https://localhost:8080/"
    },
    "id": "nEz0FSjQvxim",
    "outputId": "9a36dc8c-cc20-498e-92f8-d50c776ef4d4"
   },
   "outputs": [
    {
     "data": {
      "text/plain": [
       "416809"
      ]
     },
     "execution_count": 22,
     "metadata": {},
     "output_type": "execute_result"
    }
   ],
   "source": [
    "len(df.index)"
   ]
  },
  {
   "cell_type": "code",
   "execution_count": 23,
   "metadata": {
    "colab": {
     "base_uri": "https://localhost:8080/"
    },
    "id": "AJJTSB6Cvzm1",
    "outputId": "151c2fa0-75c5-4697-b1a5-b347dfd0d339"
   },
   "outputs": [
    {
     "name": "stdout",
     "output_type": "stream",
     "text": [
      "joy         141067\n",
      "sadness     121187\n",
      "anger        57317\n",
      "fear         47712\n",
      "love         34554\n",
      "surprise     14972\n",
      "Name: emotions, dtype: int64\n"
     ]
    }
   ],
   "source": [
    "# Display the distribution of emotions\n",
    "emotion_counts = df['emotions'].value_counts()\n",
    "print(emotion_counts)"
   ]
  },
  {
   "cell_type": "code",
   "execution_count": 24,
   "metadata": {
    "colab": {
     "base_uri": "https://localhost:8080/",
     "height": 527
    },
    "id": "ESYH9_2MxGTG",
    "outputId": "84fc1e47-03fb-4148-ccc8-54dd10de4240"
   },
   "outputs": [
    {
     "data": {
      "image/png": "[encoded data removed]",
      "text/plain": [
       "<Figure size 1000x500 with 1 Axes>"
      ]
     },
     "metadata": {},
     "output_type": "display_data"
    }
   ],
   "source": [
    "# Plotting the distribution of emotions\n",
    "plt.figure(figsize=(10, 5))\n",
    "sns.barplot(x=emotion_counts.index, y=emotion_counts.values, alpha=0.8)\n",
    "plt.title('Frequency Distribution of Emotions')\n",
    "plt.ylabel('Number of Occurrences', fontsize=12)\n",
    "plt.xlabel('Emotion', fontsize=12)\n",
    "plt.xticks(rotation=45)\n",
    "plt.show()\n"
   ]
  },
  {
   "cell_type": "code",
   "execution_count": 25,
   "metadata": {
    "colab": {
     "base_uri": "https://localhost:8080/"
    },
    "id": "8mpaVXQVxLUs",
    "outputId": "5dab7b38-3ff0-4ba0-e359-92aaa28f9838"
   },
   "outputs": [
    {
     "name": "stdout",
     "output_type": "stream",
     "text": [
      "surprise 14972\n"
     ]
    }
   ],
   "source": [
    "min_emotion_count = emotion_counts.min()\n",
    "min_emotion = emotion_counts.idxmin()\n",
    "print(min_emotion, min_emotion_count)"
   ]
  },
  {
   "cell_type": "markdown",
   "metadata": {
    "id": "Txp9gruDymJV"
   },
   "source": [
    "the dataset is very skew. it should be split equally among the rest. we can Stratified Split(cite) to split dataset equally.\n"
   ]
  },
  {
   "cell_type": "markdown",
   "metadata": {
    "id": "zvvwBbgW0i3_"
   },
   "source": [
    "but first we should convert text to number so the ml model can process it"
   ]
  },
  {
   "cell_type": "code",
   "execution_count": 26,
   "metadata": {
    "id": "Hw1Zj0xQxrCz"
   },
   "outputs": [],
   "source": [
    "# import required module\n",
    "from sklearn.feature_extraction.text import TfidfVectorizer\n",
    "\n",
    "tfidf_vectorizer = TfidfVectorizer(stop_words='english')\n",
    "\n",
    "# get tf-df values\n",
    "X_tfidf = tfidf_vectorizer.fit_transform(df['text'])\n"
   ]
  },
  {
   "cell_type": "code",
   "execution_count": 27,
   "metadata": {
    "id": "Xipbe4aH1P7T"
   },
   "outputs": [],
   "source": [
    "y = df['emotions']"
   ]
  },
  {
   "cell_type": "code",
   "execution_count": 28,
   "metadata": {
    "colab": {
     "base_uri": "https://localhost:8080/"
    },
    "id": "_yWbfXvc20Dx",
    "outputId": "54e2ea75-44eb-42fd-ae85-811b751dfb46"
   },
   "outputs": [
    {
     "data": {
      "text/plain": [
       "<416809x74964 sparse matrix of type '<class 'numpy.float64'>'\n",
       "\twith 3396200 stored elements in Compressed Sparse Row format>"
      ]
     },
     "execution_count": 28,
     "metadata": {},
     "output_type": "execute_result"
    }
   ],
   "source": [
    "X_tfidf"
   ]
  },
  {
   "cell_type": "code",
   "execution_count": 29,
   "metadata": {
    "id": "lZXZOX-L27TM"
   },
   "outputs": [],
   "source": [
    "from sklearn.model_selection import train_test_split\n",
    "\n",
    "X_train, X_test, y_train, y_test = train_test_split(X_tfidf, y, test_size=0.2, random_state=42, stratify=y)"
   ]
  },
  {
   "cell_type": "markdown",
   "metadata": {
    "id": "gyQN-qtv5aUf"
   },
   "source": [
    "# Model"
   ]
  },
  {
   "cell_type": "markdown",
   "metadata": {
    "id": "hJfvX5S65rXo"
   },
   "source": [
    "## Naive Bayes"
   ]
  },
  {
   "cell_type": "code",
   "execution_count": 30,
   "metadata": {
    "colab": {
     "base_uri": "https://localhost:8080/"
    },
    "id": "sdl_UEn85tLB",
    "outputId": "d5cc3992-8a34-4714-d145-41d58a51c2d7"
   },
   "outputs": [
    {
     "name": "stdout",
     "output_type": "stream",
     "text": [
      "Accuracy: 0.7666682661164559\n",
      "              precision    recall  f1-score   support\n",
      "\n",
      "       anger       0.93      0.64      0.76     11463\n",
      "        fear       0.90      0.48      0.63      9542\n",
      "         joy       0.71      0.97      0.82     28214\n",
      "        love       0.95      0.24      0.38      6911\n",
      "     sadness       0.76      0.94      0.84     24238\n",
      "    surprise       0.97      0.08      0.14      2994\n",
      "\n",
      "    accuracy                           0.77     83362\n",
      "   macro avg       0.87      0.56      0.59     83362\n",
      "weighted avg       0.81      0.77      0.73     83362\n",
      "\n"
     ]
    }
   ],
   "source": [
    "from sklearn.naive_bayes import MultinomialNB\n",
    "from sklearn.metrics import classification_report, accuracy_score\n",
    "naive_bayes_classifier = MultinomialNB()\n",
    "\n",
    "# Train the classifier\n",
    "naive_bayes_classifier.fit(X_train, y_train)\n",
    "\n",
    "# Predict on the test data\n",
    "y_pred = naive_bayes_classifier.predict(X_test)\n",
    "\n",
    "# Evaluate the model\n",
    "print(\"Accuracy:\", accuracy_score(y_test, y_pred))\n",
    "print(classification_report(y_test, y_pred))\n"
   ]
  },
  {
   "cell_type": "code",
   "execution_count": 31,
   "metadata": {
    "colab": {
     "base_uri": "https://localhost:8080/"
    },
    "id": "AddCtOldGpiY",
    "outputId": "186d7e55-d5d5-47ed-fc44-29a82e618808"
   },
   "outputs": [
    {
     "data": {
      "text/plain": [
       "['tfidf_vectorizer.pkl']"
      ]
     },
     "execution_count": 31,
     "metadata": {},
     "output_type": "execute_result"
    }
   ],
   "source": [
    "import joblib\n",
    "\n",
    "# Save the model\n",
    "joblib.dump(naive_bayes_classifier, 'naive_bayes_model.pkl')\n",
    "\n",
    "# Save the vectorizer\n",
    "joblib.dump(tfidf_vectorizer, 'tfidf_vectorizer.pkl')\n"
   ]
  },
  {
   "cell_type": "markdown",
   "metadata": {
    "id": "FrNhn9m99R9b"
   },
   "source": [
    "## Linear Regression"
   ]
  },
  {
   "cell_type": "code",
   "execution_count": 32,
   "metadata": {
    "id": "QZhO51aW9a5p"
   },
   "outputs": [],
   "source": [
    "from sklearn.linear_model import LogisticRegression\n",
    "\n",
    "# Initialize the Logistic Regression model\n",
    "# Using 'liblinear' solver for binary classification and 'saga' for multiclass\n",
    "logreg = LogisticRegression(solver='saga', max_iter=1000,random_state=42)\n",
    "\n",
    "# Train the model\n",
    "logreg.fit(X_train, y_train)\n",
    "\n",
    "# Predict on the test data\n",
    "y_pred_logreg = logreg.predict(X_test)\n",
    "\n",
    "# Evaluate the model\n",
    "accuracy_logreg = accuracy_score(y_test, y_pred_logreg)\n",
    "report_logreg = classification_report(y_test, y_pred_logreg)"
   ]
  },
  {
   "cell_type": "code",
   "execution_count": 33,
   "metadata": {
    "colab": {
     "base_uri": "https://localhost:8080/"
    },
    "id": "zVYK22iZ-Scc",
    "outputId": "db90a4dd-b2d4-4d32-dca9-3ea4ade65873"
   },
   "outputs": [
    {
     "data": {
      "text/plain": [
       "0.8896619562870373"
      ]
     },
     "execution_count": 33,
     "metadata": {},
     "output_type": "execute_result"
    }
   ],
   "source": [
    "accuracy_logreg"
   ]
  },
  {
   "cell_type": "code",
   "execution_count": 34,
   "metadata": {
    "colab": {
     "base_uri": "https://localhost:8080/"
    },
    "id": "J6iEhiMV-ymB",
    "outputId": "6d0adeab-4a00-4df4-e304-aa43686588f0"
   },
   "outputs": [
    {
     "name": "stdout",
     "output_type": "stream",
     "text": [
      "              precision    recall  f1-score   support\n",
      "\n",
      "       anger       0.89      0.90      0.90     11463\n",
      "        fear       0.84      0.83      0.84      9542\n",
      "         joy       0.90      0.93      0.91     28214\n",
      "        love       0.79      0.74      0.77      6911\n",
      "     sadness       0.94      0.93      0.93     24238\n",
      "    surprise       0.75      0.69      0.72      2994\n",
      "\n",
      "    accuracy                           0.89     83362\n",
      "   macro avg       0.85      0.84      0.84     83362\n",
      "weighted avg       0.89      0.89      0.89     83362\n",
      "\n"
     ]
    }
   ],
   "source": [
    "print(report_logreg)"
   ]
  },
  {
   "cell_type": "code",
   "execution_count": 35,
   "metadata": {
    "colab": {
     "base_uri": "https://localhost:8080/"
    },
    "id": "TsQmgyFB-yEL",
    "outputId": "56c1de41-ab20-4283-c924-8130209caf9b"
   },
   "outputs": [
    {
     "data": {
      "text/plain": [
       "['logistic_regression_model.joblib']"
      ]
     },
     "execution_count": 35,
     "metadata": {},
     "output_type": "execute_result"
    }
   ],
   "source": [
    "joblib.dump(logreg, 'logistic_regression_model.joblib')"
   ]
  },
  {
   "cell_type": "markdown",
   "metadata": {
    "id": "bbGa-IlGCVYH"
   },
   "source": [
    "## CNN"
   ]
  },
  {
   "cell_type": "code",
   "execution_count": 36,
   "metadata": {
    "id": "OsHZti9iCY0u"
   },
   "outputs": [],
   "source": [
    "from keras.models import Sequential\n",
    "from keras.layers import Embedding, Conv1D, MaxPooling1D, Flatten, Dense\n",
    "from keras_preprocessing.sequence import pad_sequences\n",
    "from keras.preprocessing.text import Tokenizer\n",
    "from sklearn.model_selection import train_test_split\n",
    "import tensorflow.keras.backend as K\n",
    "\n",
    "K.clear_session()\n",
    "# Tokenize and pad sequences\n",
    "tokenizer = Tokenizer(num_words=5000)\n",
    "tokenizer.fit_on_texts(df['text'])\n",
    "sequences = tokenizer.texts_to_sequences(df['text'])\n",
    "X = pad_sequences(sequences, maxlen=100)\n",
    "\n",
    "# Prepare the labels \n",
    "y = pd.get_dummies(df['emotions']).values\n",
    "\n",
    "# Split the data\n",
    "X_train, X_test, y_train, y_test = train_test_split(X, y, test_size=0.2, random_state=42)\n",
    "\n",
    "# Build the CNN model\n",
    "model = Sequential()\n",
    "model.add(Embedding(input_dim=5000, output_dim=128, input_length=100))\n",
    "model.add(Conv1D(filters=32, kernel_size=3, padding='same', activation='relu'))\n",
    "model.add(MaxPooling1D(pool_size=2))\n",
    "model.add(Flatten())\n",
    "model.add(Dense(10, activation='relu'))\n",
    "model.add(Dense(y.shape[1], activation='softmax'))\n"
   ]
  },
  {
   "cell_type": "code",
   "execution_count": 37,
   "metadata": {
    "colab": {
     "base_uri": "https://localhost:8080/"
    },
    "id": "3HGdxKBkz5wh",
    "outputId": "b76890d5-dc86-4eb1-f5c6-fa89c6d87a8e"
   },
   "outputs": [
    {
     "name": "stdout",
     "output_type": "stream",
     "text": [
      "Model: \"sequential\"\n",
      "_________________________________________________________________\n",
      " Layer (type)                Output Shape              Param #   \n",
      "=================================================================\n",
      " embedding (Embedding)       (None, 100, 128)          640000    \n",
      "                                                                 \n",
      " conv1d (Conv1D)             (None, 100, 32)           12320     \n",
      "                                                                 \n",
      " max_pooling1d (MaxPooling1D  (None, 50, 32)           0         \n",
      " )                                                               \n",
      "                                                                 \n",
      " flatten (Flatten)           (None, 1600)              0         \n",
      "                                                                 \n",
      " dense (Dense)               (None, 10)                16010     \n",
      "                                                                 \n",
      " dense_1 (Dense)             (None, 6)                 66        \n",
      "                                                                 \n",
      "=================================================================\n",
      "Total params: 668,396\n",
      "Trainable params: 668,396\n",
      "Non-trainable params: 0\n",
      "_________________________________________________________________\n"
     ]
    }
   ],
   "source": [
    "model.summary()"
   ]
  },
  {
   "cell_type": "code",
   "execution_count": 38,
   "metadata": {
    "id": "h4CPpvQKCVWW"
   },
   "outputs": [],
   "source": [
    "from tensorflow.keras import optimizers\n",
    "\n",
    "opt = optimizers.Adam(learning_rate=0.001)\n",
    "model.compile(loss='categorical_crossentropy', optimizer=opt, metrics=['accuracy'])\n"
   ]
  },
  {
   "cell_type": "code",
   "execution_count": 39,
   "metadata": {
    "colab": {
     "base_uri": "https://localhost:8080/"
    },
    "id": "NaJHXoaBC-ax",
    "outputId": "efa098f9-d6a6-4bef-a7cc-fbeb0fcf6d4a"
   },
   "outputs": [
    {
     "name": "stdout",
     "output_type": "stream",
     "text": [
      "Epoch 1/10\n",
      "5206/5211 [============================>.] - ETA: 0s - loss: 0.3762 - accuracy: 0.8509\n",
      "Epoch 1: val_loss improved from inf to 0.18887, saving model to model.h5\n",
      "5211/5211 [==============================] - 37s 7ms/step - loss: 0.3761 - accuracy: 0.8510 - val_loss: 0.1889 - val_accuracy: 0.9176 - lr: 0.0010\n",
      "Epoch 2/10\n",
      "5210/5211 [============================>.] - ETA: 0s - loss: 0.1643 - accuracy: 0.9239\n",
      "Epoch 2: val_loss improved from 0.18887 to 0.16805, saving model to model.h5\n",
      "5211/5211 [==============================] - 34s 7ms/step - loss: 0.1643 - accuracy: 0.9239 - val_loss: 0.1680 - val_accuracy: 0.9198 - lr: 0.0010\n",
      "Epoch 3/10\n",
      "5204/5211 [============================>.] - ETA: 0s - loss: 0.1457 - accuracy: 0.9282\n",
      "Epoch 3: val_loss improved from 0.16805 to 0.16208, saving model to model.h5\n",
      "5211/5211 [==============================] - 35s 7ms/step - loss: 0.1457 - accuracy: 0.9281 - val_loss: 0.1621 - val_accuracy: 0.9190 - lr: 0.0010\n",
      "Epoch 4/10\n",
      "5208/5211 [============================>.] - ETA: 0s - loss: 0.1348 - accuracy: 0.9304\n",
      "Epoch 4: val_loss did not improve from 0.16208\n",
      "5211/5211 [==============================] - 34s 7ms/step - loss: 0.1347 - accuracy: 0.9304 - val_loss: 0.1627 - val_accuracy: 0.9175 - lr: 0.0010\n",
      "Epoch 5/10\n",
      "5205/5211 [============================>.] - ETA: 0s - loss: 0.1258 - accuracy: 0.9332\n",
      "Epoch 5: val_loss did not improve from 0.16208\n",
      "5211/5211 [==============================] - 35s 7ms/step - loss: 0.1258 - accuracy: 0.9332 - val_loss: 0.1682 - val_accuracy: 0.9147 - lr: 0.0010\n",
      "Epoch 6/10\n",
      "5210/5211 [============================>.] - ETA: 0s - loss: 0.1191 - accuracy: 0.9353\n",
      "Epoch 6: val_loss did not improve from 0.16208\n",
      "\n",
      "Epoch 6: ReduceLROnPlateau reducing learning rate to 0.00020000000949949026.\n",
      "5211/5211 [==============================] - 36s 7ms/step - loss: 0.1191 - accuracy: 0.9353 - val_loss: 0.1702 - val_accuracy: 0.9149 - lr: 0.0010\n",
      "Epoch 7/10\n",
      "5210/5211 [============================>.] - ETA: 0s - loss: 0.1006 - accuracy: 0.9423\n",
      "Epoch 7: val_loss did not improve from 0.16208\n",
      "5211/5211 [==============================] - 37s 7ms/step - loss: 0.1006 - accuracy: 0.9422 - val_loss: 0.1741 - val_accuracy: 0.9088 - lr: 2.0000e-04\n",
      "Epoch 8/10\n",
      "5211/5211 [==============================] - ETA: 0s - loss: 0.0960 - accuracy: 0.9439\n",
      "Epoch 8: val_loss did not improve from 0.16208\n",
      "5211/5211 [==============================] - 37s 7ms/step - loss: 0.0960 - accuracy: 0.9439 - val_loss: 0.1784 - val_accuracy: 0.9064 - lr: 2.0000e-04\n",
      "Epoch 8: early stopping\n"
     ]
    }
   ],
   "source": [
    "from keras.callbacks import ModelCheckpoint, EarlyStopping, ReduceLROnPlateau\n",
    "\n",
    "# Model checkpoint to save the model after every epoch\n",
    "checkpoint = ModelCheckpoint(\"model.h5\", monitor='val_loss', verbose=1, save_best_only=True, mode='min')\n",
    "\n",
    "# Early stopping to stop training when the validation loss does not decrease for 5 epochs\n",
    "early_stopping = EarlyStopping(monitor='val_loss', mode='min', patience=5, verbose=1)\n",
    "\n",
    "# Reduce learning rate when the validation loss plateaus\n",
    "reduce_lr = ReduceLROnPlateau(monitor='val_loss', mode='min', patience=3, factor=0.2, min_lr=0.00001, verbose=1)\n",
    "\n",
    "# Including these callbacks in the model's fit method\n",
    "history = model.fit(X_train, y_train, validation_data=(X_test, y_test), epochs=10, batch_size=64, callbacks=[checkpoint, early_stopping, reduce_lr])\n"
   ]
  },
  {
   "cell_type": "code",
   "execution_count": 40,
   "metadata": {
    "id": "1tUMfqgnNBvC"
   },
   "outputs": [],
   "source": [
    "import pickle\n",
    "\n",
    "# Saving the tokenizer\n",
    "with open('tokenizer.pickle', 'wb') as handle:\n",
    "    pickle.dump(tokenizer, handle, protocol=pickle.HIGHEST_PROTOCOL)\n",
    "\n",
    "model.save('CNN.h5')"
   ]
  },
  {
   "cell_type": "markdown",
   "metadata": {
    "id": "QmIlH094FKFL"
   },
   "source": [
    "# Application"
   ]
  },
  {
   "cell_type": "code",
   "execution_count": 41,
   "metadata": {
    "colab": {
     "base_uri": "https://localhost:8080/"
    },
    "id": "ksqxGoVCHC8C",
    "outputId": "6a1ef31d-7032-40c6-edf0-c868a11f75e0"
   },
   "outputs": [
    {
     "name": "stdout",
     "output_type": "stream",
     "text": [
      "Enter your text here:I slammed my fist in anger, but then burst into laughter, realizing the absurdity of it all.\n",
      "1/1 [==============================] - 0s 38ms/step\n",
      "\n",
      "Predictions and Probabilities:\n",
      "\n",
      "Naive Bayes Prediction:  joy\n",
      "Naive Bayes Probabilities: \n",
      "anger:0.2190863061281364 \n",
      "fear:0.1388256211466991 \n",
      "joy:0.26072114153468845 \n",
      "love:0.11434620221122123 \n",
      "sadness:0.24181941676627788 \n",
      "surprise:0.02520131221297537 \n",
      "\n",
      "Logistic Regression Prediction:  anger\n",
      "anger:0.4017210688862057 \n",
      "fear:0.12184924117849924 \n",
      "joy:0.23832651889324377 \n",
      "love:0.06885038501146967 \n",
      "sadness:0.1315110941870479 \n",
      "surprise:0.03774169184353367 \n",
      "\n",
      "CNN Prediction (Emotion):  anger\n",
      "anger:0.5735710859298706 \n",
      "fear:0.19589252769947052 \n",
      "joy:0.05969538912177086 \n",
      "love:0.0007390704704448581 \n",
      "sadness:0.1674700677394867 \n",
      "surprise:0.0026317897718399763 \n"
     ]
    }
   ],
   "source": [
    "import joblib\n",
    "import keras\n",
    "from keras_preprocessing.sequence import pad_sequences\n",
    "from keras.preprocessing.text import Tokenizer\n",
    "import numpy as np\n",
    "import pickle\n",
    "from sklearn.naive_bayes import MultinomialNB\n",
    "from sklearn.metrics import classification_report, accuracy_score\n",
    "\n",
    "def preprocess_text(text,tokenizer):\n",
    "    sequences = tokenizer.texts_to_sequences([text])\n",
    "    padded_sequences = pad_sequences(sequences, maxlen=100)  \n",
    "    return padded_sequences\n",
    "def main():\n",
    "    # Load necessary model\n",
    "    vectorizer = joblib.load('tfidf_vectorizer.pkl')\n",
    "    naive_bayes_model = joblib.load('naive_bayes_model.pkl')\n",
    "    logreg = joblib.load('logistic_regression_model.joblib')\n",
    "    CNN = keras.models.load_model('CNN.h5')\n",
    "\n",
    "    with open('tokenizer.pickle', 'rb') as handle:\n",
    "        tokenizer = pickle.load(handle)\n",
    "\n",
    "    index_to_emotion = {\n",
    "    0: 'anger',\n",
    "    1: 'fear',\n",
    "    2: 'joy',\n",
    "    3: 'love',\n",
    "    4: 'sadness',\n",
    "    5: 'surprise'\n",
    "      }\n",
    "\n",
    "    text=input(\"Enter your text here:\")\n",
    "\n",
    "    # preprocess text\n",
    "    processed_text = preprocess_text(text,tokenizer)\n",
    "    text_vector = vectorizer.transform([text])\n",
    "\n",
    "    prediction_naive_bayes = naive_bayes_model.predict(text_vector)\n",
    "    probabilities_naive_bayes = naive_bayes_model.predict_proba(text_vector)\n",
    "\n",
    "    prediction_logreg = logreg.predict(text_vector)\n",
    "    probabilities_logreg = logreg.predict_proba(text_vector)\n",
    "\n",
    "    prediction_CNN = CNN.predict(processed_text)\n",
    "    emotion_index = np.argmax(prediction_CNN)\n",
    "    emotion_label = index_to_emotion[emotion_index]\n",
    "\n",
    "    print(\"\\nPredictions and Probabilities:\\n\")\n",
    "    print(\"Naive Bayes Prediction: \", prediction_naive_bayes[0])\n",
    "    print(\"Naive Bayes Probabilities: \")\n",
    "    for i in range(len(probabilities_naive_bayes[0])):\n",
    "        print(f\"{index_to_emotion[i]}:{probabilities_naive_bayes[0][i]} \")\n",
    "    print(\"\\nLogistic Regression Prediction: \", prediction_logreg[0])\n",
    "    for i in range(len(probabilities_logreg[0])):\n",
    "        print(f\"{index_to_emotion[i]}:{probabilities_logreg[0][i]} \")\n",
    "    print(\"\\nCNN Prediction (Emotion): \", emotion_label)\n",
    "    for i in range(len(prediction_CNN[0])):\n",
    "        print(f\"{index_to_emotion[i]}:{prediction_CNN[0][i]} \")\n",
    "\n",
    "if __name__ == \"__main__\":\n",
    "    main()\n"
   ]
  }
 ],
 "metadata": {
  "accelerator": "GPU",
  "colab": {
   "collapsed_sections": [
    "hJfvX5S65rXo",
    "FrNhn9m99R9b"
   ],
   "gpuType": "T4",
   "provenance": []
  },
  "kernelspec": {
   "display_name": "Python 3 (ipykernel)",
   "language": "python",
   "name": "python3"
  },
  "language_info": {
   "codemirror_mode": {
    "name": "ipython",
    "version": 3
   },
   "file_extension": ".py",
   "mimetype": "text/x-python",
   "name": "python",
   "nbconvert_exporter": "python",
   "pygments_lexer": "ipython3",
   "version": "3.10.9"
  }
 },
 "nbformat": 4,
 "nbformat_minor": 1
}
